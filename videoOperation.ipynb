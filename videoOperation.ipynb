{
 "cells": [
  {
   "cell_type": "code",
   "execution_count": 1,
   "id": "82af1498-14d4-45d8-8e02-27fdf177a469",
   "metadata": {},
   "outputs": [],
   "source": [
    "import cv2 as cv\n",
    "import numpy as np\n",
    "import matplotlib.pyplot as plt\n",
    "import math\n",
    "import os"
   ]
  },
  {
   "cell_type": "code",
   "execution_count": 2,
   "id": "f07bb422-be2e-4013-8684-29a629513028",
   "metadata": {},
   "outputs": [],
   "source": [
    "video = cv.VideoCapture(\"Sample.mkv\")"
   ]
  },
  {
   "cell_type": "code",
   "execution_count": 3,
   "id": "f6082711-0f8b-40de-ad22-d15a388def85",
   "metadata": {},
   "outputs": [],
   "source": [
    "i = 1\n",
    "while True:\n",
    "    ret,frame = video.read()\n",
    "\n",
    "    if ret == False:\n",
    "        break\n",
    "\n",
    "    gframe = cv.cvtColor(frame,cv.COLOR_BGR2GRAY)\n",
    "    cv.imwrite(\"./vout/picture\" + str(i) + \".png\", frame)\n",
    "    cv.imwrite(\"./grayvout/picture\" + str(i) + \".png\", gframe)\n",
    "    i = i+1\n",
    "    \n",
    "    cv.imshow(\" Video is playing\", frame)\n",
    "    key = cv.waitKey(1)\n",
    "    if key == ord('q'):\n",
    "        break\n",
    "    if key == ord('m'):\n",
    "        cv.waitKey(-1)\n",
    "    \n",
    "video.release()\n",
    "cv.destroyAllWindows()"
   ]
  },
  {
   "cell_type": "code",
   "execution_count": 4,
   "id": "a2a821b7-c61f-47fe-b138-650a71e87580",
   "metadata": {},
   "outputs": [],
   "source": [
    "def calEntropy(image):\n",
    "    row, col = image.shape\n",
    "    n = row*col\n",
    "    pixel1 = list(image.ravel())\n",
    "    pixel2 = set(pixel1)\n",
    "\n",
    "    fre = {}\n",
    "    for key in pixel2:\n",
    "        fre[key] = pixel1.count(key)/n\n",
    "        \n",
    "    l = list(fre.keys())\n",
    "\n",
    "\n",
    "    entropy = 0\n",
    "    for x in l:\n",
    "        entropy = entropy + fre[x]*math.log(fre[x],2)\n",
    "    entropy = (-1)*entropy\n",
    "    return entropy"
   ]
  },
  {
   "cell_type": "code",
   "execution_count": 5,
   "id": "ed5a16ac-d7fd-4825-b2b0-171859de5b98",
   "metadata": {},
   "outputs": [],
   "source": [
    "def getKey(fname):\n",
    "    fin = 7\n",
    "    lin = fname.index('.')\n",
    "    result = fname[fin:lin]\n",
    "    return int(result)"
   ]
  },
  {
   "cell_type": "code",
   "execution_count": 6,
   "id": "467a5b4c-d4bf-49a7-a55c-d785450d490b",
   "metadata": {},
   "outputs": [],
   "source": [
    "def sortFile(files):\n",
    "    files.sort(key = getKey)"
   ]
  },
  {
   "cell_type": "code",
   "execution_count": 7,
   "id": "230ee20e-0352-478c-a062-f63fc3424242",
   "metadata": {},
   "outputs": [
    {
     "name": "stdout",
     "output_type": "stream",
     "text": [
      "['picture1.png', 'picture10.png', 'picture100.png', 'picture1000.png', 'picture1001.png', 'picture1002.png', 'picture1003.png', 'picture1004.png', 'picture1005.png', 'picture1006.png', 'picture1007.png', 'picture1008.png', 'picture1009.png', 'picture101.png', 'picture1010.png', 'picture1011.png', 'picture1012.png', 'picture1013.png', 'picture1014.png', 'picture1015.png']\n"
     ]
    }
   ],
   "source": [
    "files = os.listdir('./grayvout')\n",
    "print(files[:20])"
   ]
  },
  {
   "cell_type": "code",
   "execution_count": 8,
   "id": "94bcb010-47a3-47a2-8a78-5ee967eca01e",
   "metadata": {},
   "outputs": [
    {
     "name": "stdout",
     "output_type": "stream",
     "text": [
      "['picture1.png', 'picture2.png', 'picture3.png', 'picture4.png', 'picture5.png', 'picture6.png', 'picture7.png', 'picture8.png', 'picture9.png', 'picture10.png', 'picture11.png', 'picture12.png', 'picture13.png', 'picture14.png', 'picture15.png', 'picture16.png', 'picture17.png', 'picture18.png', 'picture19.png', 'picture20.png']\n"
     ]
    }
   ],
   "source": [
    "sortFile(files)\n",
    "print(files[:20])"
   ]
  },
  {
   "cell_type": "code",
   "execution_count": null,
   "id": "c1f71dd4-00c0-455f-811b-dd65b7522511",
   "metadata": {},
   "outputs": [],
   "source": [
    "listed = []\n",
    "for f in files:\n",
    "    image = cv.imread('./grayvout/' + f, 0)\n",
    "    error = calEntropy(image)\n",
    "    listed.append(error)"
   ]
  },
  {
   "cell_type": "code",
   "execution_count": null,
   "id": "95eafd4d-93ee-4500-b149-205421906239",
   "metadata": {},
   "outputs": [],
   "source": [
    "x = [i for i in range(len(listed))]\n",
    "plt.plot(x,listed,color = 'r', label = 'Entropy')\n",
    "plt.legend()\n",
    "plt.show()"
   ]
  },
  {
   "cell_type": "code",
   "execution_count": null,
   "id": "1a51264f-d2d7-4714-b1f1-5b55e2fe5f16",
   "metadata": {},
   "outputs": [],
   "source": []
  }
 ],
 "metadata": {
  "kernelspec": {
   "display_name": "Python 3 (ipykernel)",
   "language": "python",
   "name": "python3"
  },
  "language_info": {
   "codemirror_mode": {
    "name": "ipython",
    "version": 3
   },
   "file_extension": ".py",
   "mimetype": "text/x-python",
   "name": "python",
   "nbconvert_exporter": "python",
   "pygments_lexer": "ipython3",
   "version": "3.12.2"
  }
 },
 "nbformat": 4,
 "nbformat_minor": 5
}
